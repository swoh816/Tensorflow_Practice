{
 "cells": [
  {
   "cell_type": "markdown",
   "metadata": {},
   "source": [
    "# Deep MNIST for experts\n",
    "\n",
    "This is the follow-up from the previous MNIST tutorial for beginners. This tutorial is a step-by-step implementation of <https://www.tensorflow.org/get_started/mnist/pros>."
   ]
  },
  {
   "cell_type": "code",
   "execution_count": 57,
   "metadata": {},
   "outputs": [
    {
     "name": "stdout",
     "output_type": "stream",
     "text": [
      "Extracting MNIST_data/train-images-idx3-ubyte.gz\n",
      "Extracting MNIST_data/train-labels-idx1-ubyte.gz\n",
      "Extracting MNIST_data/t10k-images-idx3-ubyte.gz\n",
      "Extracting MNIST_data/t10k-labels-idx1-ubyte.gz\n"
     ]
    }
   ],
   "source": [
    "from tensorflow.examples.tutorials.mnist import input_data\n",
    "mnist = input_data.read_data_sets('MNIST_data/', one_hot=True)"
   ]
  },
  {
   "cell_type": "markdown",
   "metadata": {},
   "source": [
    "## 0. Use `InteractiveSession`"
   ]
  },
  {
   "cell_type": "markdown",
   "metadata": {
    "collapsed": true
   },
   "source": [
    "Use `InteractiveSession` class to interleave operations which build a **computational graph** with ones that run the graph. Computational graph is [a series of TensorFlow operations arranged into a graph of nodes](https://www.tensorflow.org/get_started/get_started#the_computational_graph)."
   ]
  },
  {
   "cell_type": "code",
   "execution_count": 58,
   "metadata": {},
   "outputs": [],
   "source": [
    "import tensorflow as tf\n",
    "sess = tf.InteractiveSession()"
   ]
  },
  {
   "cell_type": "markdown",
   "metadata": {},
   "source": [
    "## 1. Build a softmax regression model\n",
    "\n",
    "### 1.1 Create computational graph's nodes: `placeholder`.\n",
    "\n",
    "We build computation graph using **nodes** for the (1) input images and (2) output classes. For input images and target outputs, we use `placeholder` **a value that we'll input when we ask TensorFlow to run a computation.**"
   ]
  },
  {
   "cell_type": "code",
   "execution_count": 59,
   "metadata": {
    "collapsed": true
   },
   "outputs": [],
   "source": [
    "x = tf.placeholder(tf.float32, shape = [None, 784])\n",
    "y_ = tf.placeholder(tf.float32, shape = [None, 10])"
   ]
  },
  {
   "cell_type": "markdown",
   "metadata": {},
   "source": [
    "We use an argument `shape` to determine the shape of `x` and `y_`. The value **`None`** in `x` indicates the first dimension, corresponding to the **batch size**, can be of any size.\n",
    "\n",
    "The shape argument to placeholder is optional, but it allows TensorFlow to automatically **catch bugs stemming from inconsistent tensor shapes.**\n",
    "\n"
   ]
  },
  {
   "cell_type": "markdown",
   "metadata": {},
   "source": [
    "## 1.2 Create computational graph's variable values: `Variable`.\n",
    "\n",
    "`Variable` is a value that can be modified by the computation. One generally uses <a name=\"variable_for_model_parameter\">`Variable` for **model parameters.**</a>\n",
    "\n",
    "We set initialize the values of weight vector `W` and bias `b` to be zero tensors."
   ]
  },
  {
   "cell_type": "code",
   "execution_count": 60,
   "metadata": {},
   "outputs": [],
   "source": [
    "W = tf.Variable(tf.zeros([784,10]))\n",
    "b = tf.Variable(tf.zeros([10]))"
   ]
  },
  {
   "cell_type": "markdown",
   "metadata": {},
   "source": [
    "Then, we must initialize all `Variable`s before we use a session, using `tf.global_variables_initializer()`. [**The module takes the initial values (in this case, tensors full of zeros) that have already been specified, and assigns them to each `Variable`.**](https://www.tensorflow.org/get_started/mnist/pros)"
   ]
  },
  {
   "cell_type": "code",
   "execution_count": 61,
   "metadata": {
    "collapsed": true
   },
   "outputs": [],
   "source": [
    "sess.run(tf.global_variables_initializer())"
   ]
  },
  {
   "cell_type": "code",
   "execution_count": 62,
   "metadata": {},
   "outputs": [
    {
     "name": "stdout",
     "output_type": "stream",
     "text": [
      "W:  [[ 0.  0.  0. ...,  0.  0.  0.]\n",
      " [ 0.  0.  0. ...,  0.  0.  0.]\n",
      " [ 0.  0.  0. ...,  0.  0.  0.]\n",
      " ..., \n",
      " [ 0.  0.  0. ...,  0.  0.  0.]\n",
      " [ 0.  0.  0. ...,  0.  0.  0.]\n",
      " [ 0.  0.  0. ...,  0.  0.  0.]]\n",
      "b:  [ 0.  0.  0.  0.  0.  0.  0.  0.  0.  0.]\n"
     ]
    }
   ],
   "source": [
    "print(\"W: \", sess.run(W))\n",
    "print(\"b: \", sess.run(b))"
   ]
  },
  {
   "cell_type": "markdown",
   "metadata": {},
   "source": [
    "## 1.3 Predicted class and loss function\n",
    "\n",
    "### 1.3.1 IMPLEMENT REGRESSION MODEL"
   ]
  },
  {
   "cell_type": "code",
   "execution_count": 63,
   "metadata": {
    "collapsed": true
   },
   "outputs": [],
   "source": [
    "y = tf.matmul(x, W) + b"
   ]
  },
  {
   "cell_type": "markdown",
   "metadata": {},
   "source": [
    "With the regression **model**, we can specify a loss function; loss indicates how bad **the model's** prediction was on a single example. Here, we use loss function as the cross-entropy between **(1) the target** AND **(2) the softmax activation function applid to the model's prediction.**"
   ]
  },
  {
   "cell_type": "code",
   "execution_count": 64,
   "metadata": {
    "collapsed": true
   },
   "outputs": [],
   "source": [
    "cross_entropy = tf.reduce_mean(tf.nn.softmax_cross_entropy_with_logits(labels=y_, logits=y))"
   ]
  },
  {
   "cell_type": "markdown",
   "metadata": {},
   "source": [
    "Note that tf.nn.softmax_cross_entropy_with_logits **internally applies** the softmax on **the model's unnormalized model prediction ($y$)** and **sums across all classes ($y\\_$)**, and tf.reduce_mean takes the average over these sums."
   ]
  },
  {
   "cell_type": "markdown",
   "metadata": {},
   "source": [
    "# 2. Train the model"
   ]
  },
  {
   "cell_type": "markdown",
   "metadata": {},
   "source": [
    "Given a computational graph, `tensorflow` can differentiate automatically to **find the gradients of loss with respect to each of the variables.** Here, we use **(1) steepest gradient descent,** with **(2) a step length of 0.5,** to **descent the cross entropy.**"
   ]
  },
  {
   "cell_type": "code",
   "execution_count": 65,
   "metadata": {
    "collapsed": true
   },
   "outputs": [],
   "source": [
    "train_step = tf.train.GradientDescentOptimizer(0.5).minimize(cross_entropy)"
   ]
  },
  {
   "cell_type": "markdown",
   "metadata": {},
   "source": [
    "What that single line does is **to add new operations to the computational graph**: compute (1) parameter update steps, (2) gradients, and (3) apply update steps to the parameter.\n",
    "\n",
    "## ONE QUESTION HERE: [The learning rate is a parameter that is chosen by the programmer.](https://adeshpande3.github.io/adeshpande3.github.io/A-Beginner's-Guide-To-Understanding-Convolutional-Neural-Networks/) Then, can we update learning rate by setting it as a variable? [`tf.Variable`](#variable_for_model_parameter) is generally used for model parameters, right?\n",
    "\n",
    "The returned operation `train_step`, when `run`, will **apply the gradient descent updates** to the parameters per each iteration. Therefore, taining the model can be accomplished by repeating over a large number of iterations:"
   ]
  },
  {
   "cell_type": "code",
   "execution_count": 66,
   "metadata": {},
   "outputs": [],
   "source": [
    "for _ in range(1000):\n",
    "    batch = mnist.train.next_batch(100)\n",
    "    train_step.run(feed_dict={x: batch[0], y_: batch[1]})"
   ]
  },
  {
   "cell_type": "markdown",
   "metadata": {},
   "source": [
    "We load 100 training examples (batches) in each training iteration. And you replace the placeholder tensors `x` and `y` with training examples using `feed_dict`. Note that **you can replace any tensor in a computational graph using feed_dict**: it is not restricted to just `placeholder`s."
   ]
  },
  {
   "cell_type": "markdown",
   "metadata": {},
   "source": [
    "# 3. Evaluate the model\n",
    "\n",
    "In order to evaluate the model, we need to know which predictions were correct (i.e., which labels we predicted correctly); here, we want to know **the indices of the entries we predicted correct.**\n",
    "\n",
    "We can use `tf.argmax` to get **the indices of the highest entries in a tensor along some axis**; for example, `tf.argmax(y,1)` is **the label our model thinks is the most likely** for **each input**,  and `tf.argmax(y_1)` is the **true label.**"
   ]
  },
  {
   "cell_type": "code",
   "execution_count": 67,
   "metadata": {},
   "outputs": [],
   "source": [
    "correct_prediction = tf.equal(tf.argmax(y,1), tf.argmax(y_,1))"
   ]
  },
  {
   "cell_type": "markdown",
   "metadata": {},
   "source": [
    "The above operation returns a list of booleans.\n",
    "\n",
    "To give **the fraction** of correct predictions, we **cast to numbers and take the mean.** For example, [True, False, True, True] would become [1,0,1,1] which would become 0.75."
   ]
  },
  {
   "cell_type": "code",
   "execution_count": 68,
   "metadata": {},
   "outputs": [
    {
     "name": "stdout",
     "output_type": "stream",
     "text": [
      "0.9159\n"
     ]
    }
   ],
   "source": [
    "accuracy = tf.reduce_mean(tf.cast(correct_prediction, tf.float32))\n",
    "print(accuracy.eval(feed_dict={x:mnist.test.images, y_:mnist.test.labels}))"
   ]
  }
 ],
 "metadata": {
  "kernelspec": {
   "display_name": "Python 3",
   "language": "python",
   "name": "python3"
  },
  "language_info": {
   "codemirror_mode": {
    "name": "ipython",
    "version": 3
   },
   "file_extension": ".py",
   "mimetype": "text/x-python",
   "name": "python",
   "nbconvert_exporter": "python",
   "pygments_lexer": "ipython3",
   "version": "3.6.3"
  }
 },
 "nbformat": 4,
 "nbformat_minor": 2
}
